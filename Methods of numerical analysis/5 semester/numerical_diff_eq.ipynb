{
 "metadata": {
  "language_info": {
   "codemirror_mode": {
    "name": "ipython",
    "version": 3
   },
   "file_extension": ".py",
   "mimetype": "text/x-python",
   "name": "python",
   "nbconvert_exporter": "python",
   "pygments_lexer": "ipython3",
   "version": "3.8.5-final"
  },
  "orig_nbformat": 2,
  "kernelspec": {
   "name": "datascience",
   "display_name": "DataScience"
  }
 },
 "nbformat": 4,
 "nbformat_minor": 2,
 "cells": [
  {
   "cell_type": "code",
   "execution_count": 1,
   "metadata": {
    "tags": []
   },
   "outputs": [],
   "source": [
    "import numpy as np\n",
    "import pandas as pd\n",
    "from IPython.display import display\n",
    "\n",
    "a = 0.2\n",
    "b = 1.2\n",
    "h = 0.1\n",
    "y0 = 0.25\n",
    "N = int((b-a)/h + 1)\n",
    "x = np.linspace(a, b, N)\n",
    "y = np.linspace(y0, y0, N)\n",
    "eps = 10**-6\n",
    "\n",
    "\n",
    "def f(x : float, y : float):\n",
    "    return 0.173*(x**2 + np.cos(0.7*x)) + 0.754*y\n",
    "\n",
    "def f_u(x : float, y : float):\n",
    "    return 0.754\n",
    "\n",
    "def calculate_norm(y_prev, y_next):\n",
    "    norm = -np.inf\n",
    "    for i in range(len(y_prev)):\n",
    "        norm = max(np.abs(y_prev[i] - y_next[2*i]), norm)\n",
    "    return norm\n",
    "\n",
    "def euler_iteration(x, y, N):\n",
    "    h = x[1] - x[0]\n",
    "    for i in range(0, N-1):\n",
    "        y[i+1] = y[i] + h * f(x[i], y[i])\n",
    "    return y\n",
    "\n",
    "def newton_iteration(x, y, N, eps_newton=10**-8):\n",
    "    h = x[1] - x[0]\n",
    "    for i in range(0, N-1):\n",
    "        y_k = y[i]\n",
    "        y_k1 = y_k - (y_k - y[i] - 0.5 * h * (f(x[i], y[i]) + f(x[i+1], y_k)))/(1 - 0.5 * h * f_u(x[i+1], y_k))\n",
    "        while (np.abs(y_k1 - y_k) >= eps_newton):\n",
    "            y_k = y_k1\n",
    "            y_k1 = y_k - (y_k - y[i] - 0.5 * h * (f(x[i], y[i]) + f(x[i+1], y_k)))/(1 - 0.5 * h * f_u(x[i+1], y_k))\n",
    "        y[i+1] = y_k1\n",
    "    return y\n",
    "\n",
    "def runge_kutte_iteration(x, y, N):\n",
    "    h = x[1] - x[0]\n",
    "    for i in range(0, N-1):\n",
    "        phi_0 = f(x[i], y[i])\n",
    "        phi_1 = f(x[i] + h/2, y[i] + 0.5*h*phi_0)\n",
    "        phi_2 = f(x[i] + h/2, y[i] + 0.5*h*phi_1)\n",
    "        phi_3 = f(x[i+1], y[i] + h * phi_2)\n",
    "        y[i+1] = y[i] + h*(phi_0 + 2*phi_1 + 2*phi_2 + phi_3)/6\n",
    "    return y\n",
    "\n",
    "def euler(N_start = 2, eps = 10**-8):\n",
    "    N_prev = N_start\n",
    "    while True:\n",
    "        N_next = N_prev * 2\n",
    "        x_prev = np.linspace(a, b, N_prev)\n",
    "        x_next = np.linspace(a, b, N_next)\n",
    "        y_prev = np.linspace(y0, y0, N_prev)\n",
    "        y_next = np.linspace(y0, y0, N_next)\n",
    "\n",
    "        y_prev = euler_iteration(x_prev, y_prev, N_prev)\n",
    "        y_next = euler_iteration(x_next, y_next, N_next)\n",
    "\n",
    "        norm = calculate_norm(y_prev, y_next)\n",
    "        if (norm < eps):\n",
    "            break\n",
    "        N_prev = N_prev * 2   \n",
    "\n",
    "    euler_df = pd.DataFrame(columns=[\"x\", \"y\"])\n",
    "    euler_df.x = x_next\n",
    "    euler_df.y = y_next\n",
    "    return euler_df\n",
    "\n",
    "def trapezii(N_start = 2, eps = 10**-8, eps_newton = 10**-10):\n",
    "    N_prev = N_start\n",
    "    while True:\n",
    "        N_next = N_prev * 2\n",
    "        x_prev = np.linspace(a, b, N_prev)\n",
    "        x_next = np.linspace(a, b, N_next)\n",
    "        y_prev = np.linspace(y0, y0, N_prev)\n",
    "        y_next = np.linspace(y0, y0, N_next)\n",
    "\n",
    "        y_prev = newton_iteration(x_prev, y_prev, N_prev, eps_newton=eps_newton)\n",
    "        y_next = newton_iteration(x_next, y_next, N_next, eps_newton=eps_newton)\n",
    "\n",
    "        norm = calculate_norm(y_prev, y_next)\n",
    "        if (norm/3 < eps):\n",
    "            break\n",
    "        N_prev = N_prev * 2\n",
    "\n",
    "    trapezii_df = pd.DataFrame(columns=[\"x\", \"y\"])\n",
    "    trapezii_df.x = x_next\n",
    "    trapezii_df.y = y_next\n",
    "    return trapezii_df\n",
    "\n",
    "def runge_kutte(N_start = 2, eps = 10**-8):\n",
    "    N_prev = N_start\n",
    "    while True:\n",
    "        N_next = N_prev * 2\n",
    "        x_prev = np.linspace(a, b, N_prev)\n",
    "        x_next = np.linspace(a, b, N_next)\n",
    "        y_prev = np.linspace(y0, y0, N_prev)\n",
    "        y_next = np.linspace(y0, y0, N_next)\n",
    "\n",
    "        y_prev = runge_kutte_iteration(x_prev, y_prev, N_prev)\n",
    "        y_next = runge_kutte_iteration(x_next, y_next, N_next)\n",
    "\n",
    "        norm = calculate_norm(y_prev, y_next)\n",
    "        if (norm/15 < eps):\n",
    "            break\n",
    "        N_prev = N_prev * 2\n",
    "\n",
    "    runge_kutte_df = pd.DataFrame(columns=[\"x\", \"y\"])\n",
    "    runge_kutte_df.x = x_next\n",
    "    runge_kutte_df.y = y_next\n",
    "    return runge_kutte_df"
   ]
  },
  {
   "cell_type": "code",
   "execution_count": 2,
   "metadata": {
    "tags": []
   },
   "outputs": [
    {
     "output_type": "stream",
     "name": "stdout",
     "text": "euler:\n"
    },
    {
     "output_type": "display_data",
     "data": {
      "text/plain": "                x         y\n0        0.200000  0.250000\n1        0.200001  0.250000\n2        0.200002  0.250001\n3        0.200003  0.250001\n4        0.200004  0.250001\n...           ...       ...\n1048571  1.199996  0.885690\n1048572  1.199997  0.885691\n1048573  1.199998  0.885692\n1048574  1.199999  0.885693\n1048575  1.200000  0.885694\n\n[1048576 rows x 2 columns]",
      "text/html": "<div>\n<style scoped>\n    .dataframe tbody tr th:only-of-type {\n        vertical-align: middle;\n    }\n\n    .dataframe tbody tr th {\n        vertical-align: top;\n    }\n\n    .dataframe thead th {\n        text-align: right;\n    }\n</style>\n<table border=\"1\" class=\"dataframe\">\n  <thead>\n    <tr style=\"text-align: right;\">\n      <th></th>\n      <th>x</th>\n      <th>y</th>\n    </tr>\n  </thead>\n  <tbody>\n    <tr>\n      <th>0</th>\n      <td>0.200000</td>\n      <td>0.250000</td>\n    </tr>\n    <tr>\n      <th>1</th>\n      <td>0.200001</td>\n      <td>0.250000</td>\n    </tr>\n    <tr>\n      <th>2</th>\n      <td>0.200002</td>\n      <td>0.250001</td>\n    </tr>\n    <tr>\n      <th>3</th>\n      <td>0.200003</td>\n      <td>0.250001</td>\n    </tr>\n    <tr>\n      <th>4</th>\n      <td>0.200004</td>\n      <td>0.250001</td>\n    </tr>\n    <tr>\n      <th>...</th>\n      <td>...</td>\n      <td>...</td>\n    </tr>\n    <tr>\n      <th>1048571</th>\n      <td>1.199996</td>\n      <td>0.885690</td>\n    </tr>\n    <tr>\n      <th>1048572</th>\n      <td>1.199997</td>\n      <td>0.885691</td>\n    </tr>\n    <tr>\n      <th>1048573</th>\n      <td>1.199998</td>\n      <td>0.885692</td>\n    </tr>\n    <tr>\n      <th>1048574</th>\n      <td>1.199999</td>\n      <td>0.885693</td>\n    </tr>\n    <tr>\n      <th>1048575</th>\n      <td>1.200000</td>\n      <td>0.885694</td>\n    </tr>\n  </tbody>\n</table>\n<p>1048576 rows × 2 columns</p>\n</div>"
     },
     "metadata": {}
    }
   ],
   "source": [
    "euler_df = euler(eps=10**-6)\n",
    "print('euler:')\n",
    "display(euler_df)"
   ]
  },
  {
   "cell_type": "code",
   "execution_count": 3,
   "metadata": {
    "tags": []
   },
   "outputs": [
    {
     "output_type": "stream",
     "name": "stdout",
     "text": "trapezii:\n"
    },
    {
     "output_type": "display_data",
     "data": {
      "text/plain": "               x         y\n0       0.200000  0.250000\n1       0.200002  0.250001\n2       0.200004  0.250001\n3       0.200006  0.250002\n4       0.200008  0.250003\n...          ...       ...\n524283  1.199992  0.885686\n524284  1.199994  0.885688\n524285  1.199996  0.885690\n524286  1.199998  0.885692\n524287  1.200000  0.885694\n\n[524288 rows x 2 columns]",
      "text/html": "<div>\n<style scoped>\n    .dataframe tbody tr th:only-of-type {\n        vertical-align: middle;\n    }\n\n    .dataframe tbody tr th {\n        vertical-align: top;\n    }\n\n    .dataframe thead th {\n        text-align: right;\n    }\n</style>\n<table border=\"1\" class=\"dataframe\">\n  <thead>\n    <tr style=\"text-align: right;\">\n      <th></th>\n      <th>x</th>\n      <th>y</th>\n    </tr>\n  </thead>\n  <tbody>\n    <tr>\n      <th>0</th>\n      <td>0.200000</td>\n      <td>0.250000</td>\n    </tr>\n    <tr>\n      <th>1</th>\n      <td>0.200002</td>\n      <td>0.250001</td>\n    </tr>\n    <tr>\n      <th>2</th>\n      <td>0.200004</td>\n      <td>0.250001</td>\n    </tr>\n    <tr>\n      <th>3</th>\n      <td>0.200006</td>\n      <td>0.250002</td>\n    </tr>\n    <tr>\n      <th>4</th>\n      <td>0.200008</td>\n      <td>0.250003</td>\n    </tr>\n    <tr>\n      <th>...</th>\n      <td>...</td>\n      <td>...</td>\n    </tr>\n    <tr>\n      <th>524283</th>\n      <td>1.199992</td>\n      <td>0.885686</td>\n    </tr>\n    <tr>\n      <th>524284</th>\n      <td>1.199994</td>\n      <td>0.885688</td>\n    </tr>\n    <tr>\n      <th>524285</th>\n      <td>1.199996</td>\n      <td>0.885690</td>\n    </tr>\n    <tr>\n      <th>524286</th>\n      <td>1.199998</td>\n      <td>0.885692</td>\n    </tr>\n    <tr>\n      <th>524287</th>\n      <td>1.200000</td>\n      <td>0.885694</td>\n    </tr>\n  </tbody>\n</table>\n<p>524288 rows × 2 columns</p>\n</div>"
     },
     "metadata": {}
    }
   ],
   "source": [
    "trapezii_df = trapezii(eps=10**-6, eps_newton=10**-8)\n",
    "print('trapezii:')\n",
    "display(trapezii_df)"
   ]
  },
  {
   "cell_type": "code",
   "execution_count": 4,
   "metadata": {
    "tags": []
   },
   "outputs": [
    {
     "output_type": "stream",
     "name": "stdout",
     "text": "runge kutte:\n"
    },
    {
     "output_type": "display_data",
     "data": {
      "text/plain": "               x         y\n0       0.200000  0.250000\n1       0.200008  0.250003\n2       0.200015  0.250006\n3       0.200023  0.250008\n4       0.200031  0.250011\n...          ...       ...\n131067  1.199969  0.885663\n131068  1.199977  0.885671\n131069  1.199985  0.885679\n131070  1.199992  0.885686\n131071  1.200000  0.885694\n\n[131072 rows x 2 columns]",
      "text/html": "<div>\n<style scoped>\n    .dataframe tbody tr th:only-of-type {\n        vertical-align: middle;\n    }\n\n    .dataframe tbody tr th {\n        vertical-align: top;\n    }\n\n    .dataframe thead th {\n        text-align: right;\n    }\n</style>\n<table border=\"1\" class=\"dataframe\">\n  <thead>\n    <tr style=\"text-align: right;\">\n      <th></th>\n      <th>x</th>\n      <th>y</th>\n    </tr>\n  </thead>\n  <tbody>\n    <tr>\n      <th>0</th>\n      <td>0.200000</td>\n      <td>0.250000</td>\n    </tr>\n    <tr>\n      <th>1</th>\n      <td>0.200008</td>\n      <td>0.250003</td>\n    </tr>\n    <tr>\n      <th>2</th>\n      <td>0.200015</td>\n      <td>0.250006</td>\n    </tr>\n    <tr>\n      <th>3</th>\n      <td>0.200023</td>\n      <td>0.250008</td>\n    </tr>\n    <tr>\n      <th>4</th>\n      <td>0.200031</td>\n      <td>0.250011</td>\n    </tr>\n    <tr>\n      <th>...</th>\n      <td>...</td>\n      <td>...</td>\n    </tr>\n    <tr>\n      <th>131067</th>\n      <td>1.199969</td>\n      <td>0.885663</td>\n    </tr>\n    <tr>\n      <th>131068</th>\n      <td>1.199977</td>\n      <td>0.885671</td>\n    </tr>\n    <tr>\n      <th>131069</th>\n      <td>1.199985</td>\n      <td>0.885679</td>\n    </tr>\n    <tr>\n      <th>131070</th>\n      <td>1.199992</td>\n      <td>0.885686</td>\n    </tr>\n    <tr>\n      <th>131071</th>\n      <td>1.200000</td>\n      <td>0.885694</td>\n    </tr>\n  </tbody>\n</table>\n<p>131072 rows × 2 columns</p>\n</div>"
     },
     "metadata": {}
    }
   ],
   "source": [
    "runge_kutte_df = runge_kutte(eps=10**-6)\n",
    "print('runge kutte:')\n",
    "display(runge_kutte_df)"
   ]
  },
  {
   "cell_type": "code",
   "execution_count": 34,
   "metadata": {},
   "outputs": [
    {
     "output_type": "execute_result",
     "data": {
      "text/plain": "                x         y\n0        0.200000  0.250000\n1        0.200001  0.250000\n104857   0.300000  0.288403\n104858   0.300000  0.288404\n209714   0.399999  0.330628\n209715   0.400000  0.330629\n209716   0.400001  0.330629\n314572   0.500000  0.377249\n314573   0.500000  0.377250\n419429   0.599999  0.428885\n419430   0.600000  0.428885\n419431   0.600001  0.428886\n524287   0.700000  0.486206\n524288   0.700000  0.486207\n629144   0.799999  0.549938\n629145   0.800000  0.549939\n629146   0.800001  0.549940\n734002   0.900000  0.620868\n734003   0.900000  0.620869\n838859   0.999999  0.699844\n838860   1.000000  0.699844\n838861   1.000001  0.699845\n943717   1.100000  0.787787\n943718   1.100000  0.787788\n1048574  1.199999  0.885693\n1048575  1.200000  0.885694",
      "text/html": "<div>\n<style scoped>\n    .dataframe tbody tr th:only-of-type {\n        vertical-align: middle;\n    }\n\n    .dataframe tbody tr th {\n        vertical-align: top;\n    }\n\n    .dataframe thead th {\n        text-align: right;\n    }\n</style>\n<table border=\"1\" class=\"dataframe\">\n  <thead>\n    <tr style=\"text-align: right;\">\n      <th></th>\n      <th>x</th>\n      <th>y</th>\n    </tr>\n  </thead>\n  <tbody>\n    <tr>\n      <th>0</th>\n      <td>0.200000</td>\n      <td>0.250000</td>\n    </tr>\n    <tr>\n      <th>1</th>\n      <td>0.200001</td>\n      <td>0.250000</td>\n    </tr>\n    <tr>\n      <th>104857</th>\n      <td>0.300000</td>\n      <td>0.288403</td>\n    </tr>\n    <tr>\n      <th>104858</th>\n      <td>0.300000</td>\n      <td>0.288404</td>\n    </tr>\n    <tr>\n      <th>209714</th>\n      <td>0.399999</td>\n      <td>0.330628</td>\n    </tr>\n    <tr>\n      <th>209715</th>\n      <td>0.400000</td>\n      <td>0.330629</td>\n    </tr>\n    <tr>\n      <th>209716</th>\n      <td>0.400001</td>\n      <td>0.330629</td>\n    </tr>\n    <tr>\n      <th>314572</th>\n      <td>0.500000</td>\n      <td>0.377249</td>\n    </tr>\n    <tr>\n      <th>314573</th>\n      <td>0.500000</td>\n      <td>0.377250</td>\n    </tr>\n    <tr>\n      <th>419429</th>\n      <td>0.599999</td>\n      <td>0.428885</td>\n    </tr>\n    <tr>\n      <th>419430</th>\n      <td>0.600000</td>\n      <td>0.428885</td>\n    </tr>\n    <tr>\n      <th>419431</th>\n      <td>0.600001</td>\n      <td>0.428886</td>\n    </tr>\n    <tr>\n      <th>524287</th>\n      <td>0.700000</td>\n      <td>0.486206</td>\n    </tr>\n    <tr>\n      <th>524288</th>\n      <td>0.700000</td>\n      <td>0.486207</td>\n    </tr>\n    <tr>\n      <th>629144</th>\n      <td>0.799999</td>\n      <td>0.549938</td>\n    </tr>\n    <tr>\n      <th>629145</th>\n      <td>0.800000</td>\n      <td>0.549939</td>\n    </tr>\n    <tr>\n      <th>629146</th>\n      <td>0.800001</td>\n      <td>0.549940</td>\n    </tr>\n    <tr>\n      <th>734002</th>\n      <td>0.900000</td>\n      <td>0.620868</td>\n    </tr>\n    <tr>\n      <th>734003</th>\n      <td>0.900000</td>\n      <td>0.620869</td>\n    </tr>\n    <tr>\n      <th>838859</th>\n      <td>0.999999</td>\n      <td>0.699844</td>\n    </tr>\n    <tr>\n      <th>838860</th>\n      <td>1.000000</td>\n      <td>0.699844</td>\n    </tr>\n    <tr>\n      <th>838861</th>\n      <td>1.000001</td>\n      <td>0.699845</td>\n    </tr>\n    <tr>\n      <th>943717</th>\n      <td>1.100000</td>\n      <td>0.787787</td>\n    </tr>\n    <tr>\n      <th>943718</th>\n      <td>1.100000</td>\n      <td>0.787788</td>\n    </tr>\n    <tr>\n      <th>1048574</th>\n      <td>1.199999</td>\n      <td>0.885693</td>\n    </tr>\n    <tr>\n      <th>1048575</th>\n      <td>1.200000</td>\n      <td>0.885694</td>\n    </tr>\n  </tbody>\n</table>\n</div>"
     },
     "metadata": {},
     "execution_count": 34
    }
   ],
   "source": [
    "euler_df[(euler_df.x % 0.1 <= 0.000001) | (euler_df.x % 0.1 >= 0.099999)]"
   ]
  },
  {
   "cell_type": "code",
   "execution_count": 35,
   "metadata": {},
   "outputs": [
    {
     "output_type": "execute_result",
     "data": {
      "text/plain": "               x         y\n0       0.200000  0.250000\n52429   0.300001  0.288404\n104857  0.399999  0.330628\n157286  0.500000  0.377249\n209715  0.600000  0.428885\n262143  0.699999  0.486206\n262144  0.700001  0.486207\n314572  0.800000  0.549939\n367001  0.900000  0.620869\n419430  1.000001  0.699845\n471858  1.099999  0.787787\n524287  1.200000  0.885694",
      "text/html": "<div>\n<style scoped>\n    .dataframe tbody tr th:only-of-type {\n        vertical-align: middle;\n    }\n\n    .dataframe tbody tr th {\n        vertical-align: top;\n    }\n\n    .dataframe thead th {\n        text-align: right;\n    }\n</style>\n<table border=\"1\" class=\"dataframe\">\n  <thead>\n    <tr style=\"text-align: right;\">\n      <th></th>\n      <th>x</th>\n      <th>y</th>\n    </tr>\n  </thead>\n  <tbody>\n    <tr>\n      <th>0</th>\n      <td>0.200000</td>\n      <td>0.250000</td>\n    </tr>\n    <tr>\n      <th>52429</th>\n      <td>0.300001</td>\n      <td>0.288404</td>\n    </tr>\n    <tr>\n      <th>104857</th>\n      <td>0.399999</td>\n      <td>0.330628</td>\n    </tr>\n    <tr>\n      <th>157286</th>\n      <td>0.500000</td>\n      <td>0.377249</td>\n    </tr>\n    <tr>\n      <th>209715</th>\n      <td>0.600000</td>\n      <td>0.428885</td>\n    </tr>\n    <tr>\n      <th>262143</th>\n      <td>0.699999</td>\n      <td>0.486206</td>\n    </tr>\n    <tr>\n      <th>262144</th>\n      <td>0.700001</td>\n      <td>0.486207</td>\n    </tr>\n    <tr>\n      <th>314572</th>\n      <td>0.800000</td>\n      <td>0.549939</td>\n    </tr>\n    <tr>\n      <th>367001</th>\n      <td>0.900000</td>\n      <td>0.620869</td>\n    </tr>\n    <tr>\n      <th>419430</th>\n      <td>1.000001</td>\n      <td>0.699845</td>\n    </tr>\n    <tr>\n      <th>471858</th>\n      <td>1.099999</td>\n      <td>0.787787</td>\n    </tr>\n    <tr>\n      <th>524287</th>\n      <td>1.200000</td>\n      <td>0.885694</td>\n    </tr>\n  </tbody>\n</table>\n</div>"
     },
     "metadata": {},
     "execution_count": 35
    }
   ],
   "source": [
    "trapezii_df[(trapezii_df.x % 0.1 <= 0.000001) | (trapezii_df.x % 0.1 >= 0.099999)]"
   ]
  },
  {
   "cell_type": "code",
   "execution_count": 37,
   "metadata": {},
   "outputs": [
    {
     "output_type": "execute_result",
     "data": {
      "text/plain": "              x         y\n0      0.200000  0.250000\n8192   0.300001  0.288404\n16383  0.399990  0.330625\n16384  0.400002  0.330630\n24575  0.499991  0.377245\n24576  0.500004  0.377251\n32767  0.599993  0.428881\n32768  0.600005  0.428888\n40959  0.699994  0.486203\n40960  0.700006  0.486210\n49151  0.799995  0.549936\n49152  0.800007  0.549944\n57343  0.899996  0.620866\n57344  0.900009  0.620875\n65535  0.999998  0.699843\n65536  1.000010  0.699853\n73727  1.099999  0.787787\n81919  1.200000  0.885694",
      "text/html": "<div>\n<style scoped>\n    .dataframe tbody tr th:only-of-type {\n        vertical-align: middle;\n    }\n\n    .dataframe tbody tr th {\n        vertical-align: top;\n    }\n\n    .dataframe thead th {\n        text-align: right;\n    }\n</style>\n<table border=\"1\" class=\"dataframe\">\n  <thead>\n    <tr style=\"text-align: right;\">\n      <th></th>\n      <th>x</th>\n      <th>y</th>\n    </tr>\n  </thead>\n  <tbody>\n    <tr>\n      <th>0</th>\n      <td>0.200000</td>\n      <td>0.250000</td>\n    </tr>\n    <tr>\n      <th>8192</th>\n      <td>0.300001</td>\n      <td>0.288404</td>\n    </tr>\n    <tr>\n      <th>16383</th>\n      <td>0.399990</td>\n      <td>0.330625</td>\n    </tr>\n    <tr>\n      <th>16384</th>\n      <td>0.400002</td>\n      <td>0.330630</td>\n    </tr>\n    <tr>\n      <th>24575</th>\n      <td>0.499991</td>\n      <td>0.377245</td>\n    </tr>\n    <tr>\n      <th>24576</th>\n      <td>0.500004</td>\n      <td>0.377251</td>\n    </tr>\n    <tr>\n      <th>32767</th>\n      <td>0.599993</td>\n      <td>0.428881</td>\n    </tr>\n    <tr>\n      <th>32768</th>\n      <td>0.600005</td>\n      <td>0.428888</td>\n    </tr>\n    <tr>\n      <th>40959</th>\n      <td>0.699994</td>\n      <td>0.486203</td>\n    </tr>\n    <tr>\n      <th>40960</th>\n      <td>0.700006</td>\n      <td>0.486210</td>\n    </tr>\n    <tr>\n      <th>49151</th>\n      <td>0.799995</td>\n      <td>0.549936</td>\n    </tr>\n    <tr>\n      <th>49152</th>\n      <td>0.800007</td>\n      <td>0.549944</td>\n    </tr>\n    <tr>\n      <th>57343</th>\n      <td>0.899996</td>\n      <td>0.620866</td>\n    </tr>\n    <tr>\n      <th>57344</th>\n      <td>0.900009</td>\n      <td>0.620875</td>\n    </tr>\n    <tr>\n      <th>65535</th>\n      <td>0.999998</td>\n      <td>0.699843</td>\n    </tr>\n    <tr>\n      <th>65536</th>\n      <td>1.000010</td>\n      <td>0.699853</td>\n    </tr>\n    <tr>\n      <th>73727</th>\n      <td>1.099999</td>\n      <td>0.787787</td>\n    </tr>\n    <tr>\n      <th>81919</th>\n      <td>1.200000</td>\n      <td>0.885694</td>\n    </tr>\n  </tbody>\n</table>\n</div>"
     },
     "metadata": {},
     "execution_count": 37
    }
   ],
   "source": [
    "runge_kutte_df[(runge_kutte_df.x % 0.1 <= 0.00001) | (runge_kutte_df.x % 0.1 >= 0.09999)]"
   ]
  },
  {
   "cell_type": "code",
   "execution_count": null,
   "metadata": {},
   "outputs": [],
   "source": []
  }
 ]
}